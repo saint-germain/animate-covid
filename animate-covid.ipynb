{
 "cells": [
  {
   "cell_type": "code",
   "execution_count": 1,
   "metadata": {
    "collapsed": true
   },
   "outputs": [],
   "source": [
    "import numpy as np\n",
    "import matplotlib.pyplot as plt\n",
    "import pandas as pd\n",
    "from matplotlib import animation\n",
    "%matplotlib inline"
   ]
  },
  {
   "cell_type": "code",
   "execution_count": 2,
   "metadata": {
    "collapsed": true
   },
   "outputs": [],
   "source": [
    "df=pd.read_csv(\"covid-confirmed-cases-since-100th-case.csv\")"
   ]
  },
  {
   "cell_type": "code",
   "execution_count": 3,
   "metadata": {},
   "outputs": [
    {
     "data": {
      "text/plain": [
       "Index(['Entity', 'Code', 'Date', ' (cases)',\n",
       "       'Number of days since the 100th confirmed case (days)'],\n",
       "      dtype='object')"
      ]
     },
     "execution_count": 3,
     "metadata": {},
     "output_type": "execute_result"
    }
   ],
   "source": [
    "df.columns"
   ]
  },
  {
   "cell_type": "code",
   "execution_count": 115,
   "metadata": {
    "collapsed": true
   },
   "outputs": [],
   "source": [
    "countries=['Spain','Italy','South Korea','China','Iran','United States','Colombia']"
   ]
  },
  {
   "cell_type": "code",
   "execution_count": 116,
   "metadata": {
    "collapsed": true
   },
   "outputs": [],
   "source": [
    "colors=['b','y','g','k','c','r','m']"
   ]
  },
  {
   "cell_type": "code",
   "execution_count": 153,
   "metadata": {},
   "outputs": [],
   "source": [
    "lim=12000\n",
    "for i in range(1,75):\n",
    "    plt.figure(figsize=(6.4,4.8), dpi=300)\n",
    "    ki=str(i)\n",
    "    si='0'*(3-len(ki))+ki\n",
    "    for country, color in zip(countries,colors):\n",
    "        dfco=df[df.Entity==country]\n",
    "        df100=dfco[dfco[df.columns[-1]]>0][:50]\n",
    "        if np.max(df100[df.columns[3]])<lim:\n",
    "            x=df100[df.columns[4]][:i]\n",
    "            y=df100[df.columns[3]][:i]\n",
    "            plt.plot(x,y,c=color)\n",
    "            plt.text(x.iloc[-1]+dlt,y.iloc[-1],country,bbox=dict(facecolor='w', edgecolor='black', boxstyle='round'))\n",
    "            kc=country\n",
    "    plt.xlim(0,50+dlt+15)\n",
    "    plt.ylim(0,lim*1.1)\n",
    "    plt.grid(True, which='major', axis='y')\n",
    "    plt.xlabel(df.columns[-1])\n",
    "    plt.ylabel('Cases')\n",
    "    plt.tight_layout()\n",
    "    plt.savefig('plotcovid'+si+'.png')\n",
    "    plt.close()\n",
    "lasti=i"
   ]
  },
  {
   "cell_type": "code",
   "execution_count": 154,
   "metadata": {},
   "outputs": [],
   "source": [
    "fcountries=['South Korea', 'Colombia']"
   ]
  },
  {
   "cell_type": "code",
   "execution_count": 155,
   "metadata": {},
   "outputs": [],
   "source": [
    "lim=12000\n",
    "lim2=300000\n",
    "for i in range(1,75):\n",
    "    plt.figure(figsize=(6.4,4.8), dpi=300)\n",
    "    for fcountry in fcountries:\n",
    "        li=[co==fcountry for co in countries]\n",
    "        csk=np.array(colors)[li][0]\n",
    "        dfco=df[df.Entity==fcountry]\n",
    "        df100=dfco[dfco[df.columns[-1]]>0][:50]\n",
    "        xsk=df100[df.columns[4]]\n",
    "        ysk=df100[df.columns[3]]\n",
    "        plt.plot(xsk,ysk,c=csk)\n",
    "        plt.text(xsk.iloc[-1]+dlt,ysk.iloc[-1],fcountry,bbox=dict(facecolor='w', edgecolor='black', boxstyle='round'))\n",
    "    ki=str(i+lasti)\n",
    "    si='0'*(3-len(ki))+ki\n",
    "    maxes=[]\n",
    "    for country, color in zip(countries,colors):\n",
    "        dfco=df[df.Entity==country]\n",
    "        df100=dfco[dfco[df.columns[-1]]>0][:50]\n",
    "        if np.max(df100[df.columns[3]])<lim2:\n",
    "            x=df100[df.columns[4]][:i]\n",
    "            y=df100[df.columns[3]][:i]\n",
    "            maxes+=[np.max(y)]\n",
    "            plt.plot(x,y,c=color)\n",
    "            if i > 10 and not(country in fcountries):\n",
    "                plt.text(x.iloc[-1]+dlt,y.iloc[-1],country,bbox=dict(facecolor='w', edgecolor='black', boxstyle='round'))\n",
    "    maxt=np.max(maxes)\n",
    "    if maxt>lim:\n",
    "        lim=maxt\n",
    "    plt.xlim(0,50+dlt+15)\n",
    "    plt.ylim(0,lim*1.1)\n",
    "    plt.grid(True, which='major', axis='y')\n",
    "    plt.xlabel(df.columns[-1])\n",
    "    plt.ylabel('Cases')\n",
    "    plt.tight_layout()\n",
    "\n",
    "\n",
    "    plt.savefig('plotcovid'+si+'.png')\n",
    "    plt.close()\n",
    "lastii=int(ki)\n",
    "\n"
   ]
  },
  {
   "cell_type": "code",
   "execution_count": 156,
   "metadata": {},
   "outputs": [],
   "source": [
    "maxu=0\n",
    "for i in range(1,75):\n",
    "    plt.figure(figsize=(6.4,4.8), dpi=300)\n",
    "    ki=str(i+lastii)\n",
    "    si='0'*(3-len(ki))+ki\n",
    "    maxes=[]\n",
    "    for country, color in zip(countries,colors):\n",
    "        dfco=df[df.Entity==country]\n",
    "        df100=dfco[dfco[df.columns[-1]]>0][:50]\n",
    "        if country != \"United States\":\n",
    "            x=df100[df.columns[4]]\n",
    "            y=df100[df.columns[3]]\n",
    "            plt.plot(x,y,c=color)\n",
    "            plt.text(x.iloc[-1]+dlt,y.iloc[-1],country,bbox=dict(facecolor='w', edgecolor='black', boxstyle='round'))\n",
    "        else:\n",
    "            x=df100[df.columns[4]][:i]\n",
    "            y=df100[df.columns[3]][:i]\n",
    "            maxu=np.max(y)\n",
    "            plt.plot(x,y,c=color)\n",
    "            plt.text(x.iloc[-1]+dlt,y.iloc[-1],'US: '+str(int(maxu)),bbox=dict(facecolor='w', edgecolor='black', boxstyle='round'))\n",
    "#    maxt=np.max(maxes)\n",
    "    if maxt>lim:\n",
    "        lim=maxt\n",
    "    if maxu>lim:\n",
    "        lim=maxu\n",
    "    plt.xlim(0,50+dlt+15)\n",
    "    plt.ylim(0,lim*1.1)\n",
    "    plt.grid(True, which='major', axis='y')\n",
    "    plt.xlabel(df.columns[-1])\n",
    "    plt.ylabel('Cases')\n",
    "    plt.tight_layout()\n",
    "    plt.savefig('plotcovid'+si+'.png')\n",
    "    plt.close()"
   ]
  },
  {
   "cell_type": "code",
   "execution_count": 152,
   "metadata": {
    "scrolled": true
   },
   "outputs": [
    {
     "name": "stderr",
     "output_type": "stream",
     "text": [
      "ffmpeg version N-97224-g7104c4dd88-tessus  https://evermeet.cx/ffmpeg/  Copyright (c) 2000-2020 the FFmpeg developers\n",
      "  built with Apple clang version 11.0.0 (clang-1100.0.33.17)\n",
      "  configuration: --cc=/usr/bin/clang --prefix=/opt/ffmpeg --extra-version=tessus --enable-avisynth --enable-fontconfig --enable-gpl --enable-libaom --enable-libass --enable-libbluray --enable-libdav1d --enable-libfreetype --enable-libgsm --enable-libmodplug --enable-libmp3lame --enable-libmysofa --enable-libopencore-amrnb --enable-libopencore-amrwb --enable-libopenh264 --enable-libopenjpeg --enable-libopus --enable-librubberband --enable-libshine --enable-libsnappy --enable-libsoxr --enable-libspeex --enable-libtheora --enable-libtwolame --enable-libvidstab --enable-libvmaf --enable-libvo-amrwbenc --enable-libvorbis --enable-libvpx --enable-libwavpack --enable-libwebp --enable-libx264 --enable-libx265 --enable-libxavs --enable-libxvid --enable-libzimg --enable-libzmq --enable-libzvbi --enable-version3 --pkg-config-flags=--static --disable-ffplay\n",
      "  libavutil      56. 42.102 / 56. 42.102\n",
      "  libavcodec     58. 77.101 / 58. 77.101\n",
      "  libavformat    58. 42.100 / 58. 42.100\n",
      "  libavdevice    58.  9.103 / 58.  9.103\n",
      "  libavfilter     7. 77.101 /  7. 77.101\n",
      "  libswscale      5.  6.101 /  5.  6.101\n",
      "  libswresample   3.  6.100 /  3.  6.100\n",
      "  libpostproc    55.  6.100 / 55.  6.100\n",
      "Input #0, image2, from 'plotcovid%03d.png':\n",
      "  Duration: 00:00:18.50, start: 0.000000, bitrate: N/A\n",
      "    Stream #0:0: Video: png, rgba(pc), 640x480 [SAR 3937:3937 DAR 4:3], 12 fps, 12 tbr, 12 tbn, 12 tbc\n",
      "Stream mapping:\n",
      "  Stream #0:0 -> #0:0 (png (native) -> h264 (libx264))\n",
      "Press [q] to stop, [?] for help\n",
      "[libx264 @ 0x7fd3ee003e00] using SAR=1/1\n",
      "[libx264 @ 0x7fd3ee003e00] using cpu capabilities: MMX2 SSE2Fast SSSE3 SSE4.2 AVX FMA3 BMI2 AVX2\n",
      "[libx264 @ 0x7fd3ee003e00] profile High 4:4:4 Predictive, level 2.2, 4:4:4, 8-bit\n",
      "[libx264 @ 0x7fd3ee003e00] 264 - core 159 r2991 1771b55 - H.264/MPEG-4 AVC codec - Copyleft 2003-2019 - http://www.videolan.org/x264.html - options: cabac=1 ref=3 deblock=1:0:0 analyse=0x3:0x113 me=hex subme=7 psy=1 psy_rd=1.00:0.00 mixed_ref=1 me_range=16 chroma_me=1 trellis=1 8x8dct=1 cqm=0 deadzone=21,11 fast_pskip=1 chroma_qp_offset=4 threads=6 lookahead_threads=1 sliced_threads=0 nr=0 decimate=1 interlaced=0 bluray_compat=0 constrained_intra=0 bframes=3 b_pyramid=2 b_adapt=1 b_bias=0 direct=1 weightb=1 open_gop=0 weightp=2 keyint=250 keyint_min=12 scenecut=40 intra_refresh=0 rc_lookahead=40 rc=crf mbtree=1 crf=5.0 qcomp=0.60 qpmin=0 qpmax=69 qpstep=4 ip_ratio=1.40 aq=1:1.00\n",
      "Output #0, mp4, to 'output5.mp4':\n",
      "  Metadata:\n",
      "    encoder         : Lavf58.42.100\n",
      "    Stream #0:0: Video: h264 (libx264) (avc1 / 0x31637661), yuv444p, 640x480 [SAR 1:1 DAR 4:3], q=-1--1, 12 fps, 12288 tbn, 12 tbc\n",
      "    Metadata:\n",
      "      encoder         : Lavc58.77.101 libx264\n",
      "    Side data:\n",
      "      cpb: bitrate max/min/avg: 0/0/0 buffer size: 0 vbv_delay: N/A\n",
      "frame=   69 fps=0.0 q=8.0 size=       0kB time=00:00:01.33 bitrate=   0.3kbits/s speed=2.65x    \r",
      "frame=  141 fps=140 q=8.0 size=       0kB time=00:00:07.33 bitrate=   0.1kbits/s speed=7.27x    \r",
      "frame=  205 fps=136 q=8.0 size=     256kB time=00:00:12.66 bitrate= 165.6kbits/s speed=8.38x    \r",
      "frame=  222 fps=124 q=-1.0 Lsize=     656kB time=00:00:18.25 bitrate= 294.6kbits/s speed=10.2x    \n",
      "video:653kB audio:0kB subtitle:0kB other streams:0kB global headers:0kB muxing overhead: 0.467863%\n",
      "[libx264 @ 0x7fd3ee003e00] frame I:1     Avg QP: 1.64  size: 14352\n",
      "[libx264 @ 0x7fd3ee003e00] frame P:106   Avg QP: 3.51  size:  5494\n",
      "[libx264 @ 0x7fd3ee003e00] frame B:115   Avg QP: 2.87  size:   623\n",
      "[libx264 @ 0x7fd3ee003e00] consecutive B-frames: 25.2% 14.4%  8.1% 52.3%\n",
      "[libx264 @ 0x7fd3ee003e00] mb I  I16..4: 86.1%  4.2%  9.8%\n",
      "[libx264 @ 0x7fd3ee003e00] mb P  I16..4:  8.0%  0.7%  1.2%  P16..4:  3.0%  1.9%  1.4%  0.0%  0.0%    skip:83.7%\n",
      "[libx264 @ 0x7fd3ee003e00] mb B  I16..4:  0.2%  0.0%  0.2%  B16..8:  1.8%  0.4%  0.2%  direct: 0.1%  skip:97.3%  L0:49.0% L1:44.7% BI: 6.3%\n",
      "[libx264 @ 0x7fd3ee003e00] 8x8 transform intra:6.4% inter:13.1%\n",
      "[libx264 @ 0x7fd3ee003e00] coded y,u,v intra: 8.2% 1.8% 1.7% inter: 1.7% 0.8% 0.7%\n",
      "[libx264 @ 0x7fd3ee003e00] i16 v,h,dc,p: 38% 61%  1%  0%\n",
      "[libx264 @ 0x7fd3ee003e00] i8 v,h,dc,ddl,ddr,vr,hd,vl,hu: 14%  7% 79%  0%  0%  0%  0%  0%  0%\n",
      "[libx264 @ 0x7fd3ee003e00] i4 v,h,dc,ddl,ddr,vr,hd,vl,hu: 19% 38% 28%  2%  2%  2%  2%  3%  3%\n",
      "[libx264 @ 0x7fd3ee003e00] Weighted P-Frames: Y:0.0% UV:0.0%\n",
      "[libx264 @ 0x7fd3ee003e00] ref P L0: 75.3%  3.6% 13.9%  7.3%\n",
      "[libx264 @ 0x7fd3ee003e00] ref B L0: 83.1% 16.3%  0.6%\n",
      "[libx264 @ 0x7fd3ee003e00] ref B L1: 99.6%  0.4%\n",
      "[libx264 @ 0x7fd3ee003e00] kb/s:289.00\n"
     ]
    }
   ],
   "source": [
    "%%bash\n",
    "ffmpeg -framerate 12 -i plotcovid%03d.png -crf 5 output5.mp4"
   ]
  },
  {
   "cell_type": "code",
   "execution_count": 104,
   "metadata": {},
   "outputs": [],
   "source": [
    "%%bash\n",
    "rm plotcovid*"
   ]
  },
  {
   "cell_type": "code",
   "execution_count": 51,
   "metadata": {
    "collapsed": true
   },
   "outputs": [],
   "source": [
    "%%bash\n",
    "rm output*"
   ]
  },
  {
   "cell_type": "code",
   "execution_count": null,
   "metadata": {
    "collapsed": true
   },
   "outputs": [],
   "source": []
  }
 ],
 "metadata": {
  "kernelspec": {
   "display_name": "Python 3",
   "language": "python",
   "name": "python3"
  },
  "language_info": {
   "codemirror_mode": {
    "name": "ipython",
    "version": 3
   },
   "file_extension": ".py",
   "mimetype": "text/x-python",
   "name": "python",
   "nbconvert_exporter": "python",
   "pygments_lexer": "ipython3",
   "version": "3.5.6"
  }
 },
 "nbformat": 4,
 "nbformat_minor": 2
}
